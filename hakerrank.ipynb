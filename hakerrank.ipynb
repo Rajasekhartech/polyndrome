{
 "cells": [
  {
   "cell_type": "code",
   "execution_count": 27,
   "metadata": {},
   "outputs": [
    {
     "name": "stdout",
     "output_type": "stream",
     "text": [
      "enter a number:12\n",
      "21\n",
      "the given number is not a polyndrome\n",
      "the nearest polyndrome is 11\n"
     ]
    }
   ],
   "source": [
    "def rev(n):\n",
    "    s = str(n)\n",
    "    l = list(s)\n",
    "    l.reverse()\n",
    "    rl = l\n",
    "    re = str(\"\".join(rl))\n",
    "    return re\n",
    "\n",
    "n = input(\"enter a number:\")\n",
    "print(rev(n))\n",
    "if len(n) == 1:\n",
    "    print('the given is a polyndrome')\n",
    "elif n == rev(n):\n",
    "    print(\"the given number is a polyndrome\")\n",
    "else:\n",
    "    print(\"the given number is not a polyndrome\")\n",
    "    number = int(n)\n",
    "    for i in range(number, number+10):\n",
    "        if i == int(rev(i)):\n",
    "            le = i - int(n)\n",
    "            res = i\n",
    "    for i in range(number-10, number):\n",
    "        if i == int(rev(i)):\n",
    "            le1 = int(n) - i\n",
    "            res1 = i\n",
    "            \n",
    "    if le1 > le:\n",
    "        print(\"the nearest polyndrome id {}\".format(res))\n",
    "    else:\n",
    "        print(\"the nearest polyndrome is {}\".format(res1))\n",
    "            \n",
    "        "
   ]
  },
  {
   "cell_type": "code",
   "execution_count": null,
   "metadata": {},
   "outputs": [],
   "source": []
  },
  {
   "cell_type": "code",
   "execution_count": null,
   "metadata": {},
   "outputs": [],
   "source": []
  }
 ],
 "metadata": {
  "kernelspec": {
   "display_name": "Python 3",
   "language": "python",
   "name": "python3"
  },
  "language_info": {
   "codemirror_mode": {
    "name": "ipython",
    "version": 3
   },
   "file_extension": ".py",
   "mimetype": "text/x-python",
   "name": "python",
   "nbconvert_exporter": "python",
   "pygments_lexer": "ipython3",
   "version": "3.7.5"
  }
 },
 "nbformat": 4,
 "nbformat_minor": 2
}
